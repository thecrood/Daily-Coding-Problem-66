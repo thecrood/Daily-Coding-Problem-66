{
 "cells": [
  {
   "cell_type": "markdown",
   "id": "8d3b11b4",
   "metadata": {},
   "source": [
    "# Daily Coding Problem 66"
   ]
  },
  {
   "cell_type": "raw",
   "id": "ee60e4c0",
   "metadata": {},
   "source": [
    "This problem was asked by Square.\n",
    "\n",
    "Assume you have access to a function toss_biased() which returns 0 or 1 with a probability that's not 50-50 (but also not 0-100 or 100-0). You do not know the bias of the coin.\n",
    "\n",
    "Write a function to simulate an unbiased coin toss."
   ]
  },
  {
   "cell_type": "markdown",
   "id": "dcdb057b",
   "metadata": {},
   "source": [
    "# Solution\n",
    "\n",
    "Since we don't know the bias of the coin, it sounds like we need to roll the coin more than once and do some calculations to find something with a 50-50 chance of occurring. Let's draw out the probability chart for tossing our coin twice. Let's say the probability of getting heads is p, so tails is 1 - p:\n",
    "\n",
    " - HH: p * p\n",
    " - HT: p * (1 - p)\n",
    " - TH: (1 - p) * p\n",
    " - TT: (1 - p) * (1 - p)\n",
    "    \n",
    "Since multiplication is commutative, we find that flipping heads and then tails has the same probability of flipping tails, then heads! Then, our strategy looks like this:\n",
    "\n",
    " - Toss our coin twice.\n",
    " - If we get heads and then tails, return heads. (It doesn't really matter which as long as the inverse one is        opposite)\n",
    " - If we get heads and then tails, return tails.                           \n",
    " - Otherwise if we get the same outcome for both coins, re-toss."
   ]
  },
  {
   "cell_type": "code",
   "execution_count": 1,
   "id": "0294feac",
   "metadata": {},
   "outputs": [],
   "source": [
    "from random import random\n",
    "\n",
    "BIAS = 0.66\n",
    "\n",
    "def toss_biased():\n",
    "    return random() > BIAS\n",
    "\n",
    "def toss_fair():\n",
    "    t1, t2 = toss_biased(), toss_biased()\n",
    "    if t1 and not t2:\n",
    "        return True\n",
    "    elif not t1 and t2:\n",
    "        return False\n",
    "    else:\n",
    "        return toss_fair()"
   ]
  },
  {
   "cell_type": "code",
   "execution_count": 2,
   "id": "dacd005d",
   "metadata": {},
   "outputs": [
    {
     "name": "stdout",
     "output_type": "stream",
     "text": [
      "defaultdict(<class 'int'>, {False: 499617, True: 500383})\n"
     ]
    }
   ],
   "source": [
    "# Testing this seems to bear it out:\n",
    "\n",
    "from collections import defaultdict\n",
    "c = defaultdict(int)\n",
    "for i in range(1000000):\n",
    "    c[toss_fair()] += 1\n",
    "print(c)\n"
   ]
  },
  {
   "cell_type": "markdown",
   "id": "33215056",
   "metadata": {},
   "source": [
    "Because there's a possibility that we always roll the same two values, there is a possibility that this function never terminates."
   ]
  },
  {
   "cell_type": "code",
   "execution_count": null,
   "id": "77343454",
   "metadata": {},
   "outputs": [],
   "source": []
  }
 ],
 "metadata": {
  "kernelspec": {
   "display_name": "Python 3 (ipykernel)",
   "language": "python",
   "name": "python3"
  },
  "language_info": {
   "codemirror_mode": {
    "name": "ipython",
    "version": 3
   },
   "file_extension": ".py",
   "mimetype": "text/x-python",
   "name": "python",
   "nbconvert_exporter": "python",
   "pygments_lexer": "ipython3",
   "version": "3.8.10"
  }
 },
 "nbformat": 4,
 "nbformat_minor": 5
}
